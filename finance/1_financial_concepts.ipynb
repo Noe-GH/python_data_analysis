{
 "cells": [
  {
   "cell_type": "markdown",
   "metadata": {},
   "source": [
    "# Financial concepts"
   ]
  },
  {
   "cell_type": "code",
   "execution_count": 1,
   "metadata": {},
   "outputs": [],
   "source": [
    "import numpy as np\n",
    "import pandas as pd\n",
    "import matplotlib.pyplot as plt"
   ]
  },
  {
   "cell_type": "markdown",
   "metadata": {},
   "source": [
    "Future value (cumulative return) of a $100 investment which grows at a rate of 6% per year for 30 years in a row."
   ]
  },
  {
   "cell_type": "code",
   "execution_count": 2,
   "metadata": {},
   "outputs": [
    {
     "name": "stdout",
     "output_type": "stream",
     "text": [
      "Future Value of Investment: 574.35\n"
     ]
    }
   ],
   "source": [
    "future_value = 100*(1+0.06)**30\n",
    "print(\"Future Value of Investment: \" + str(round(future_value, 2)))"
   ]
  },
  {
   "cell_type": "markdown",
   "metadata": {},
   "source": [
    "Value of a $100 investment which grows at a rate of 6% per year for 30 years in a row compounded once per year."
   ]
  },
  {
   "cell_type": "code",
   "execution_count": 3,
   "metadata": {},
   "outputs": [],
   "source": [
    "# Predefined variables\n",
    "initial_investment = 100\n",
    "growth_periods = 30\n",
    "growth_rate = 0.06"
   ]
  },
  {
   "cell_type": "code",
   "execution_count": 4,
   "metadata": {},
   "outputs": [
    {
     "name": "stdout",
     "output_type": "stream",
     "text": [
      "Investment 1: 574.35\n"
     ]
    }
   ],
   "source": [
    "compound_periods_1 = 1\n",
    "investment_1 = initial_investment * (1+growth_rate/compound_periods_1)**(growth_periods*compound_periods_1)\n",
    "print(\"Investment 1: \" + str(round(investment_1, 2)))"
   ]
  },
  {
   "cell_type": "markdown",
   "metadata": {},
   "source": [
    "Value of the same investment, but compounded quarterly."
   ]
  },
  {
   "cell_type": "code",
   "execution_count": 5,
   "metadata": {},
   "outputs": [
    {
     "name": "stdout",
     "output_type": "stream",
     "text": [
      "Investment 2: 596.93\n"
     ]
    }
   ],
   "source": [
    "compound_periods_2 = 4\n",
    "investment_2 = initial_investment*(1 + growth_rate / compound_periods_2)**(compound_periods_2*growth_periods)\n",
    "print(\"Investment 2: \" + str(round(investment_2, 2)))"
   ]
  },
  {
   "cell_type": "markdown",
   "metadata": {},
   "source": [
    "Value of the same investment, but compounded monthly."
   ]
  },
  {
   "cell_type": "code",
   "execution_count": 6,
   "metadata": {},
   "outputs": [
    {
     "name": "stdout",
     "output_type": "stream",
     "text": [
      "Investment 3: 602.26\n"
     ]
    }
   ],
   "source": [
    "compound_periods_3 = 12\n",
    "investment_3 = initial_investment * (1 + growth_rate/compound_periods_3)**(growth_periods*compound_periods_3)\n",
    "print(\"Investment 3: \" + str(round(investment_3, 2)))"
   ]
  },
  {
   "cell_type": "markdown",
   "metadata": {},
   "source": [
    "Future value of a $100 investment that depreciates in value by 5% per year for 10 years"
   ]
  },
  {
   "cell_type": "code",
   "execution_count": 7,
   "metadata": {},
   "outputs": [
    {
     "name": "stdout",
     "output_type": "stream",
     "text": [
      "Future value: 59.87\n",
      "Discount factor: 1.67\n",
      "Initial value: 100.0\n"
     ]
    }
   ],
   "source": [
    "# Future value\n",
    "initial_investment = 100\n",
    "growth_rate = -0.05\n",
    "growth_periods = 10\n",
    "future_value = initial_investment*(1 + growth_rate)**(growth_periods)\n",
    "print(\"Future value: \" + str(round(future_value, 2)))\n",
    "\n",
    "# Discount factor\n",
    "discount_factor = 1/(1+growth_rate)**growth_periods\n",
    "print(\"Discount factor: \" + str(round(discount_factor, 2)))\n",
    "\n",
    "# Back to the initial value\n",
    "initial_investment_again = future_value * discount_factor\n",
    "print(\"Initial value: \" + str(round(initial_investment_again, 2)))"
   ]
  },
  {
   "cell_type": "markdown",
   "metadata": {},
   "source": [
    "### Present and future value"
   ]
  },
  {
   "cell_type": "markdown",
   "metadata": {},
   "source": [
    "Present value of $100 received 3 years from now at a 1% inflation rate"
   ]
  },
  {
   "cell_type": "code",
   "execution_count": 8,
   "metadata": {},
   "outputs": [
    {
     "name": "stderr",
     "output_type": "stream",
     "text": [
      "<ipython-input-8-62d27ede9d34>:1: DeprecationWarning: numpy.pv is deprecated and will be removed from NumPy 1.20. Use numpy_financial.pv instead (https://pypi.org/project/numpy-financial/).\n",
      "  np.pv(rate=0.01, nper=3, pmt=0, fv=100)\n"
     ]
    },
    {
     "data": {
      "text/plain": [
       "-97.05901479276443"
      ]
     },
     "execution_count": 8,
     "metadata": {},
     "output_type": "execute_result"
    }
   ],
   "source": [
    "np.pv(rate=0.01, nper=3, pmt=0, fv=100)"
   ]
  },
  {
   "cell_type": "markdown",
   "metadata": {},
   "source": [
    "Future value of $100 invested for 3 years at a 5% average annual rate of return"
   ]
  },
  {
   "cell_type": "code",
   "execution_count": 9,
   "metadata": {},
   "outputs": [
    {
     "name": "stderr",
     "output_type": "stream",
     "text": [
      "<ipython-input-9-8d80a93df547>:1: DeprecationWarning: numpy.fv is deprecated and will be removed from NumPy 1.20. Use numpy_financial.fv instead (https://pypi.org/project/numpy-financial/).\n",
      "  np.fv(rate=0.05, nper=3, pmt=0, pv=-100)\n"
     ]
    },
    {
     "data": {
      "text/plain": [
       "115.76250000000002"
      ]
     },
     "execution_count": 9,
     "metadata": {},
     "output_type": "execute_result"
    }
   ],
   "source": [
    "np.fv(rate=0.05, nper=3, pmt=0, pv=-100)"
   ]
  },
  {
   "cell_type": "code",
   "execution_count": 10,
   "metadata": {},
   "outputs": [
    {
     "name": "stdout",
     "output_type": "stream",
     "text": [
      "Investment 1 is worth 6418.62 in today's dollars\n",
      "Investment 2 is worth 6139.13 in today's dollars\n"
     ]
    },
    {
     "name": "stderr",
     "output_type": "stream",
     "text": [
      "<ipython-input-10-9cff3de5f7a1>:2: DeprecationWarning: numpy.pv is deprecated and will be removed from NumPy 1.20. Use numpy_financial.pv instead (https://pypi.org/project/numpy-financial/).\n",
      "  investment_1 = np.pv(rate=0.03, nper=15, pmt=0, fv=10000)\n",
      "<ipython-input-10-9cff3de5f7a1>:8: DeprecationWarning: numpy.pv is deprecated and will be removed from NumPy 1.20. Use numpy_financial.pv instead (https://pypi.org/project/numpy-financial/).\n",
      "  investment_2 = np.pv(rate=0.05, nper=10, pmt=0, fv=10000)\n"
     ]
    }
   ],
   "source": [
    "# Investment_1\n",
    "investment_1 = np.pv(rate=0.03, nper=15, pmt=0, fv=10000)\n",
    "\n",
    "# The present value returned is negative, so the result is multiplied by -1\n",
    "print(\"Investment 1 is worth \" + str(round(-investment_1, 2)) + \" in today's dollars\")\n",
    "\n",
    "# nvestment_2\n",
    "investment_2 = np.pv(rate=0.05, nper=10, pmt=0, fv=10000)\n",
    "print(\"Investment 2 is worth \" + str(round(-investment_2, 2)) + \" in today's dollars\")"
   ]
  },
  {
   "cell_type": "code",
   "execution_count": 11,
   "metadata": {},
   "outputs": [
    {
     "name": "stdout",
     "output_type": "stream",
     "text": [
      "Investment 1 will yield a total of $20789.28 in 15 years\n",
      "Investment 2 will yield a total of $31721.69 in 15 years\n"
     ]
    },
    {
     "name": "stderr",
     "output_type": "stream",
     "text": [
      "<ipython-input-11-19c3c5d866de>:2: DeprecationWarning: numpy.fv is deprecated and will be removed from NumPy 1.20. Use numpy_financial.fv instead (https://pypi.org/project/numpy-financial/).\n",
      "  investment_1 = np.fv(rate=0.05, nper=15, pmt=0, pv=-10000)\n",
      "<ipython-input-11-19c3c5d866de>:6: DeprecationWarning: numpy.fv is deprecated and will be removed from NumPy 1.20. Use numpy_financial.fv instead (https://pypi.org/project/numpy-financial/).\n",
      "  investment_2 = np.fv(rate=0.08, nper=15, pmt=0, pv=-10000)\n"
     ]
    }
   ],
   "source": [
    "# Investment_1\n",
    "investment_1 = np.fv(rate=0.05, nper=15, pmt=0, pv=-10000)\n",
    "print(\"Investment 1 will yield a total of $\" + str(round(investment_1, 2)) + \" in 15 years\")\n",
    "\n",
    "# Investment_2\n",
    "investment_2 = np.fv(rate=0.08, nper=15, pmt=0, pv=-10000)\n",
    "print(\"Investment 2 will yield a total of $\" + str(round(investment_2, 2)) + \" in 15 years\")"
   ]
  },
  {
   "cell_type": "markdown",
   "metadata": {},
   "source": [
    "### Adjusting future values for inflation"
   ]
  },
  {
   "cell_type": "code",
   "execution_count": 12,
   "metadata": {},
   "outputs": [
    {
     "name": "stdout",
     "output_type": "stream",
     "text": [
      "Investment 1 will yield a total of $21589.25 in 10 years\n",
      "After adjusting for inflation, investment 1 is worth $16064.43 in today's dollars\n"
     ]
    },
    {
     "name": "stderr",
     "output_type": "stream",
     "text": [
      "<ipython-input-12-2b458350d918>:2: DeprecationWarning: numpy.fv is deprecated and will be removed from NumPy 1.20. Use numpy_financial.fv instead (https://pypi.org/project/numpy-financial/).\n",
      "  investment_1 = np.fv(rate=0.08, nper=10, pmt=0, pv=-10000)\n",
      "<ipython-input-12-2b458350d918>:6: DeprecationWarning: numpy.pv is deprecated and will be removed from NumPy 1.20. Use numpy_financial.pv instead (https://pypi.org/project/numpy-financial/).\n",
      "  investment_1_discounted = np.pv(rate=0.03, nper=10, pmt=0, fv=investment_1)\n"
     ]
    }
   ],
   "source": [
    "# Investment_1\n",
    "investment_1 = np.fv(rate=0.08, nper=10, pmt=0, pv=-10000)\n",
    "print(\"Investment 1 will yield a total of $\" + str(round(investment_1, 2)) + \" in 10 years\")\n",
    "\n",
    "# Investment_2\n",
    "investment_1_discounted = np.pv(rate=0.03, nper=10, pmt=0, fv=investment_1)\n",
    "print(\"After adjusting for inflation, investment 1 is worth $\" + str(round(-investment_1_discounted, 2)) + \" in today's dollars\")"
   ]
  },
  {
   "cell_type": "markdown",
   "metadata": {},
   "source": [
    "### Net present value"
   ]
  },
  {
   "cell_type": "code",
   "execution_count": 13,
   "metadata": {},
   "outputs": [
    {
     "name": "stdout",
     "output_type": "stream",
     "text": [
      "Investment 1's net present value is $471.71 in today's dollars\n",
      "Investment 2's net present value is $454.6 in today's dollars\n",
      "Investment 3's net present value is $438.72 in today's dollars\n"
     ]
    },
    {
     "name": "stderr",
     "output_type": "stream",
     "text": [
      "<ipython-input-13-1263c8b28995>:5: DeprecationWarning: numpy.npv is deprecated and will be removed from NumPy 1.20. Use numpy_financial.npv instead (https://pypi.org/project/numpy-financial/).\n",
      "  investment_1 = np.npv(rate=0.03, values=cash_flows)\n",
      "<ipython-input-13-1263c8b28995>:9: DeprecationWarning: numpy.npv is deprecated and will be removed from NumPy 1.20. Use numpy_financial.npv instead (https://pypi.org/project/numpy-financial/).\n",
      "  investment_2 = np.npv(rate=0.05, values=cash_flows)\n",
      "<ipython-input-13-1263c8b28995>:13: DeprecationWarning: numpy.npv is deprecated and will be removed from NumPy 1.20. Use numpy_financial.npv instead (https://pypi.org/project/numpy-financial/).\n",
      "  investment_3 = np.npv(rate=0.07, values=cash_flows)\n"
     ]
    }
   ],
   "source": [
    "# Cash flows\n",
    "cash_flows = np.array([100, 100, 100, 100, 100])\n",
    "\n",
    "# Investment_1\n",
    "investment_1 = np.npv(rate=0.03, values=cash_flows)\n",
    "print(\"Investment 1's net present value is $\" + str(round(investment_1, 2)) + \" in today's dollars\")\n",
    "\n",
    "# Investment_2\n",
    "investment_2 = np.npv(rate=0.05, values=cash_flows)\n",
    "print(\"Investment 2's net present value is $\" + str(round(investment_2, 2)) + \" in today's dollars\")\n",
    "\n",
    "# Investment_3\n",
    "investment_3 = np.npv(rate=0.07, values=cash_flows)\n",
    "print(\"Investment 3's net present value is $\" + str(round(investment_3, 2)) + \" in today's dollars\")"
   ]
  },
  {
   "cell_type": "code",
   "execution_count": 14,
   "metadata": {},
   "outputs": [
    {
     "name": "stdout",
     "output_type": "stream",
     "text": [
      "The net present value of Investment 1 is worth $665.54 in today's dollars\n",
      "The net present value of Investment 2 is worth $346.7 in today's dollars\n"
     ]
    },
    {
     "name": "stderr",
     "output_type": "stream",
     "text": [
      "<ipython-input-14-f309a78742e6>:8: DeprecationWarning: numpy.npv is deprecated and will be removed from NumPy 1.20. Use numpy_financial.npv instead (https://pypi.org/project/numpy-financial/).\n",
      "  investment_1 = np.npv(rate=0.03, values=cash_flows_1)\n",
      "<ipython-input-14-f309a78742e6>:12: DeprecationWarning: numpy.npv is deprecated and will be removed from NumPy 1.20. Use numpy_financial.npv instead (https://pypi.org/project/numpy-financial/).\n",
      "  investment_2 = np.npv(rate=0.03, values=cash_flows_2)\n"
     ]
    }
   ],
   "source": [
    "# Cash flows for project 1\n",
    "cash_flows_1 = np.array([-250, 100, 200, 300, 400])\n",
    "\n",
    "# Cash flows for project 2\n",
    "cash_flows_2 = np.array([-250, 300, -250, 300, 300])\n",
    "\n",
    "# Net present value of project 1\n",
    "investment_1 = np.npv(rate=0.03, values=cash_flows_1)\n",
    "print(\"The net present value of Investment 1 is worth $\" + str(round(investment_1, 2)) + \" in today's dollars\")\n",
    "\n",
    "# Net present value of project 2\n",
    "investment_2 = np.npv(rate=0.03, values=cash_flows_2)\n",
    "print(\"The net present value of Investment 2 is worth $\" + str(round(investment_2, 2)) + \" in today's dollars\")"
   ]
  },
  {
   "cell_type": "markdown",
   "metadata": {},
   "source": [
    "Present value of a single $100 payment received 30 years from now with an annual inflation rate of 3%."
   ]
  },
  {
   "cell_type": "code",
   "execution_count": 15,
   "metadata": {},
   "outputs": [
    {
     "name": "stdout",
     "output_type": "stream",
     "text": [
      "Investment 1 is worth $41.2 in today's dollars\n"
     ]
    },
    {
     "name": "stderr",
     "output_type": "stream",
     "text": [
      "<ipython-input-15-790861dd051c>:2: DeprecationWarning: numpy.pv is deprecated and will be removed from NumPy 1.20. Use numpy_financial.pv instead (https://pypi.org/project/numpy-financial/).\n",
      "  investment_1 = np.pv(rate=0.03, nper=30, pmt=0, fv=100)\n"
     ]
    }
   ],
   "source": [
    "# Investment_1\n",
    "investment_1 = np.pv(rate=0.03, nper=30, pmt=0, fv=100)\n",
    "print(\"Investment 1 is worth $\" + str(round(-investment_1, 2)) + \" in today's dollars\")"
   ]
  },
  {
   "cell_type": "markdown",
   "metadata": {},
   "source": [
    "Present value of the same payment, but if it was received 50 and 100 years from now."
   ]
  },
  {
   "cell_type": "code",
   "execution_count": 16,
   "metadata": {},
   "outputs": [
    {
     "name": "stdout",
     "output_type": "stream",
     "text": [
      "Investment 2 is worth $22.81 in today's dollars\n",
      "Investment 3 is worth $5.2 in today's dollars\n"
     ]
    },
    {
     "name": "stderr",
     "output_type": "stream",
     "text": [
      "<ipython-input-16-03329ce824c5>:2: DeprecationWarning: numpy.pv is deprecated and will be removed from NumPy 1.20. Use numpy_financial.pv instead (https://pypi.org/project/numpy-financial/).\n",
      "  investment_2 = np.pv(rate=0.03, nper=50, pmt=0, fv=100)\n",
      "<ipython-input-16-03329ce824c5>:6: DeprecationWarning: numpy.pv is deprecated and will be removed from NumPy 1.20. Use numpy_financial.pv instead (https://pypi.org/project/numpy-financial/).\n",
      "  investment_3 = np.pv(rate=0.03, nper=100, pmt=0, fv=100)\n"
     ]
    }
   ],
   "source": [
    "# Investment_2\n",
    "investment_2 = np.pv(rate=0.03, nper=50, pmt=0, fv=100)\n",
    "print(\"Investment 2 is worth $\" + str(round(-investment_2, 2)) + \" in today's dollars\")\n",
    "\n",
    "# Investment_3\n",
    "investment_3 = np.pv(rate=0.03, nper=100, pmt=0, fv=100)\n",
    "print(\"Investment 3 is worth $\" + str(round(-investment_3, 2)) + \" in today's dollars\")"
   ]
  },
  {
   "cell_type": "markdown",
   "metadata": {},
   "source": [
    "### Internal Rate of Return (IRR)"
   ]
  },
  {
   "cell_type": "code",
   "execution_count": 17,
   "metadata": {},
   "outputs": [
    {
     "name": "stderr",
     "output_type": "stream",
     "text": [
      "<ipython-input-17-e7c6ab50befb>:14: DeprecationWarning: numpy.irr is deprecated and will be removed from NumPy 1.20. Use numpy_financial.irr instead (https://pypi.org/project/numpy-financial/).\n",
      "  irr_project1 = np.irr(cf_project1)\n"
     ]
    },
    {
     "name": "stdout",
     "output_type": "stream",
     "text": [
      "Project 1 IRR: 28.92%\n",
      "Project 2 IRR: 28.78%\n"
     ]
    },
    {
     "name": "stderr",
     "output_type": "stream",
     "text": [
      "<ipython-input-17-e7c6ab50befb>:18: DeprecationWarning: numpy.irr is deprecated and will be removed from NumPy 1.20. Use numpy_financial.irr instead (https://pypi.org/project/numpy-financial/).\n",
      "  irr_project2 = np.irr(cf_project2)\n"
     ]
    }
   ],
   "source": [
    "# Cash flows for Project 1\n",
    "cf_project_1 = np.array([-1000, 200, 250, 300, 350,\n",
    "                         400, 450, 500, 550, 600])\n",
    "\n",
    "# Cash flows for Project 2\n",
    "cf_project_2 = np.array([-1000, 150, 225, 300, 375,\n",
    "                         425, 500, 575, 600, 625])\n",
    "\n",
    "# Original objects scaled by 1000x\n",
    "cf_project1 = cf_project_1*1000\n",
    "cf_project2 = cf_project_2*1000\n",
    "\n",
    "# Internal rate of return for Project 1\n",
    "irr_project1 = np.irr(cf_project1)\n",
    "print(\"Project 1 IRR: \" + str(round(100*irr_project1, 2)) + \"%\")\n",
    "\n",
    "# Internal rate of return for Project 2\n",
    "irr_project2 = np.irr(cf_project2)\n",
    "print(\"Project 2 IRR: \" + str(round(100*irr_project2, 2)) + \"%\")\n",
    "\n",
    "# Project 1 is preferable."
   ]
  },
  {
   "cell_type": "markdown",
   "metadata": {},
   "source": [
    "### Weighted Average Cost of Capital (WACC)"
   ]
  },
  {
   "cell_type": "markdown",
   "metadata": {},
   "source": [
    "It's assumed a company takes out a \\\\$1,000,000 loan to finance a project, which will be the company's only outstanding debt. This loan will represent 50\\% of the company's total financing of \\\\$2,000,000. The remaining funding comes from the market value of equity."
   ]
  },
  {
   "cell_type": "code",
   "execution_count": 18,
   "metadata": {},
   "outputs": [
    {
     "name": "stdout",
     "output_type": "stream",
     "text": [
      "Debt Financing: 50.0%\n",
      "Equity Financing: 50.0%\n"
     ]
    }
   ],
   "source": [
    "# Market value of debt\n",
    "mval_debt = 1000000\n",
    "\n",
    "# Market value of equity\n",
    "mval_equity = 2000000 - mval_debt\n",
    "\n",
    "# Total market value of the company's financing\n",
    "mval_total = mval_debt + mval_equity\n",
    "\n",
    "# Proportion of the company's financing via debt\n",
    "percent_debt = mval_debt/mval_total\n",
    "print(\"Debt Financing: \" + str(round(100*percent_debt, 2)) + \"%\")\n",
    "\n",
    "# Proportion of the company's financing via equity\n",
    "percent_equity = mval_equity/mval_total\n",
    "print(\"Equity Financing: \" + str(round(100*percent_equity, 2)) + \"%\")"
   ]
  },
  {
   "cell_type": "markdown",
   "metadata": {},
   "source": [
    "Estimatation of the cost of financing via both debt and equity\n",
    "- It's assumed a cost of equity of 18\\% based on similar companies.\n",
    "- The bank is willing to lend at an interest rate of 12\\%.\n",
    "- It's assumed a corporate tax rate of 35\\% and that the debt financing is tax-deductible."
   ]
  },
  {
   "cell_type": "code",
   "execution_count": 19,
   "metadata": {},
   "outputs": [
    {
     "name": "stdout",
     "output_type": "stream",
     "text": [
      "WACC: 12.9%\n"
     ]
    }
   ],
   "source": [
    "# The proportion of debt vs equity financing is predefined\n",
    "percent_debt = 0.50\n",
    "percent_equity = 0.50\n",
    "\n",
    "# Cost of equity\n",
    "cost_equity = 0.18\n",
    "\n",
    "# Cost of debt\n",
    "cost_debt = 0.12\n",
    "\n",
    "# Corporate tax rate\n",
    "tax_rate = 0.35\n",
    "\n",
    "# WACC\n",
    "wacc = percent_equity*cost_equity + percent_debt*cost_debt*(1-tax_rate)\n",
    "print(\"WACC: \" + str(round(100*wacc, 2)) + \"%\")"
   ]
  },
  {
   "cell_type": "markdown",
   "metadata": {},
   "source": [
    "Companies use their WACC as the discount rate when calculating the net present value of potential projects. Companies adjust the cash flows of potential projects by their cost of financing (WACC) to account for their investor's required rate of return based on market conditions."
   ]
  },
  {
   "cell_type": "code",
   "execution_count": 20,
   "metadata": {},
   "outputs": [
    {
     "name": "stdout",
     "output_type": "stream",
     "text": [
      "Project 1 NPV: 856073.18\n",
      "Project 2 NPV: 904741.35\n"
     ]
    },
    {
     "name": "stderr",
     "output_type": "stream",
     "text": [
      "<ipython-input-20-07affbe1f73e>:2: DeprecationWarning: numpy.npv is deprecated and will be removed from NumPy 1.20. Use numpy_financial.npv instead (https://pypi.org/project/numpy-financial/).\n",
      "  npv_project1 = np.npv(wacc, cf_project1)\n",
      "<ipython-input-20-07affbe1f73e>:6: DeprecationWarning: numpy.npv is deprecated and will be removed from NumPy 1.20. Use numpy_financial.npv instead (https://pypi.org/project/numpy-financial/).\n",
      "  npv_project2 = np.npv(wacc, cf_project2)\n"
     ]
    }
   ],
   "source": [
    "# Net present value for Project 1\n",
    "npv_project1 = np.npv(wacc, cf_project1)\n",
    "print(\"Project 1 NPV: \" + str(round(npv_project1, 2)))\n",
    "\n",
    "# Net present value for Project 2\n",
    "npv_project2 = np.npv(wacc, cf_project2)\n",
    "print(\"Project 2 NPV: \" + str(round(npv_project2, 2)))\n",
    "\n",
    "# Project 2 seems better"
   ]
  },
  {
   "cell_type": "markdown",
   "metadata": {},
   "source": [
    "### Equivalent Annual Annuity (EAA)"
   ]
  },
  {
   "cell_type": "code",
   "execution_count": 21,
   "metadata": {},
   "outputs": [],
   "source": [
    "# Cash flows for Project 1\n",
    "cf_project_1 = np.array([-700, 100, 150, 200,\n",
    "                         250, 300, 350, 400])\n",
    "\n",
    "# Cash flows for Project 2\n",
    "cf_project_2 = np.array([-400, 50, 100, 150,\n",
    "                         200, 250, 300])\n",
    "\n",
    "# Original objects scaled by 1000x\n",
    "cf_project1 = cf_project_1 * 1000\n",
    "cf_project2 = cf_project_2 * 1000"
   ]
  },
  {
   "cell_type": "code",
   "execution_count": 22,
   "metadata": {},
   "outputs": [
    {
     "name": "stdout",
     "output_type": "stream",
     "text": [
      "Project 1 IRR: 22.94%\n",
      "Project 2 IRR: 26.89%\n",
      "Project 1 NPV: 302744.98\n",
      "Project 2 NPV: 231228.39\n"
     ]
    },
    {
     "name": "stderr",
     "output_type": "stream",
     "text": [
      "<ipython-input-22-6c4bce76adb7>:2: DeprecationWarning: numpy.irr is deprecated and will be removed from NumPy 1.20. Use numpy_financial.irr instead (https://pypi.org/project/numpy-financial/).\n",
      "  irr_project1 = np.irr(cf_project1)\n",
      "<ipython-input-22-6c4bce76adb7>:6: DeprecationWarning: numpy.irr is deprecated and will be removed from NumPy 1.20. Use numpy_financial.irr instead (https://pypi.org/project/numpy-financial/).\n",
      "  irr_project2 = np.irr(cf_project2)\n",
      "<ipython-input-22-6c4bce76adb7>:13: DeprecationWarning: numpy.npv is deprecated and will be removed from NumPy 1.20. Use numpy_financial.npv instead (https://pypi.org/project/numpy-financial/).\n",
      "  npv_project1 = np.npv(wacc, cf_project1)\n",
      "<ipython-input-22-6c4bce76adb7>:17: DeprecationWarning: numpy.npv is deprecated and will be removed from NumPy 1.20. Use numpy_financial.npv instead (https://pypi.org/project/numpy-financial/).\n",
      "  npv_project2 = np.npv(wacc, cf_project2)\n"
     ]
    }
   ],
   "source": [
    "# IRR for Project 1\n",
    "irr_project1 = np.irr(cf_project1)\n",
    "print(\"Project 1 IRR: \" + str(round(100*irr_project1, 2)) + \"%\")\n",
    "\n",
    "# IRR for Project 2\n",
    "irr_project2 = np.irr(cf_project2)\n",
    "print(\"Project 2 IRR: \" + str(round(100*irr_project2, 2)) + \"%\")\n",
    "\n",
    "# WACC of 12.9%\n",
    "wacc = 0.129\n",
    "\n",
    "# NPV for Project 1\n",
    "npv_project1 = np.npv(wacc, cf_project1)\n",
    "print(\"Project 1 NPV: \" + str(round(npv_project1, 2)))\n",
    "\n",
    "# NPV for Project 2\n",
    "npv_project2 = np.npv(wacc, cf_project2)\n",
    "print(\"Project 2 NPV: \" + str(round(npv_project2, 2)))"
   ]
  },
  {
   "cell_type": "code",
   "execution_count": 23,
   "metadata": {},
   "outputs": [
    {
     "name": "stdout",
     "output_type": "stream",
     "text": [
      "Project 1 EAA: 62872.2\n",
      "Project 2 EAA: 52120.61\n"
     ]
    },
    {
     "name": "stderr",
     "output_type": "stream",
     "text": [
      "<ipython-input-23-dc15b71fe678>:2: DeprecationWarning: numpy.pmt is deprecated and will be removed from NumPy 1.20. Use numpy_financial.pmt instead (https://pypi.org/project/numpy-financial/).\n",
      "  eaa_project1 = np.pmt(rate=wacc, nper=8, pv=-1*npv_project1, fv=0)\n",
      "<ipython-input-23-dc15b71fe678>:6: DeprecationWarning: numpy.pmt is deprecated and will be removed from NumPy 1.20. Use numpy_financial.pmt instead (https://pypi.org/project/numpy-financial/).\n",
      "  eaa_project2 = np.pmt(rate=wacc, nper=7, pv=-1*npv_project2, fv=0)\n"
     ]
    }
   ],
   "source": [
    "# EAA for Project 1\n",
    "eaa_project1 = np.pmt(rate=wacc, nper=8, pv=-1*npv_project1, fv=0)\n",
    "print(\"Project 1 EAA: \" + str(round(eaa_project1, 2)))\n",
    "\n",
    "# EAA for Project 2\n",
    "eaa_project2 = np.pmt(rate=wacc, nper=7, pv=-1*npv_project2, fv=0)\n",
    "print(\"Project 2 EAA: \" + str(round(eaa_project2, 2)))\n",
    "\n",
    "# Project 1 is preferable"
   ]
  },
  {
   "cell_type": "markdown",
   "metadata": {},
   "source": [
    "### Mortgage loan"
   ]
  },
  {
   "cell_type": "code",
   "execution_count": 24,
   "metadata": {},
   "outputs": [
    {
     "name": "stdout",
     "output_type": "stream",
     "text": [
      "Initial Down Payment: 160000.0\n",
      "Mortgage Loan: 640000.0\n"
     ]
    }
   ],
   "source": [
    "# Value of the home\n",
    "home_value = 800000\n",
    "\n",
    "# Percentage of the down payment\n",
    "down_payment_percent = 0.2\n",
    "\n",
    "# Dollar value of the down payment\n",
    "down_payment = home_value*down_payment_percent\n",
    "print(\"Initial Down Payment: \" + str(down_payment))\n",
    "\n",
    "# Value of the mortgage loan required after the down payment\n",
    "mortgage_loan = home_value - down_payment\n",
    "print(\"Mortgage Loan: \" + str(mortgage_loan))"
   ]
  },
  {
   "cell_type": "code",
   "execution_count": 25,
   "metadata": {},
   "outputs": [
    {
     "name": "stdout",
     "output_type": "stream",
     "text": [
      "Monthly Mortgage Payment: 2941.13\n"
     ]
    },
    {
     "name": "stderr",
     "output_type": "stream",
     "text": [
      "<ipython-input-25-bfd8cce7be02>:10: DeprecationWarning: numpy.pmt is deprecated and will be removed from NumPy 1.20. Use numpy_financial.pmt instead (https://pypi.org/project/numpy-financial/).\n",
      "  periodic_mortgage_payment = -1*np.pmt(mortgage_rate_periodic,\n"
     ]
    }
   ],
   "source": [
    "mortgage_rate = 0.0375\n",
    "\n",
    "# Equivalent monthly mortgage rate from the annual rate (3.75%)\n",
    "mortgage_rate_periodic = (1+mortgage_rate)**(1/12) - 1\n",
    "\n",
    "# Monthly payment periods over 30 years\n",
    "mortgage_payment_periods = 12*30\n",
    "\n",
    "# Monthly mortgage payment (multiplied by -1 to keep it positive)\n",
    "periodic_mortgage_payment = -1*np.pmt(mortgage_rate_periodic,\n",
    "                                      mortgage_payment_periods,\n",
    "                                      mortgage_loan)\n",
    "print(\"Monthly Mortgage Payment: \" + str(round(periodic_mortgage_payment, 2)))"
   ]
  },
  {
   "cell_type": "markdown",
   "metadata": {},
   "source": [
    "### Amortization"
   ]
  },
  {
   "cell_type": "code",
   "execution_count": 26,
   "metadata": {},
   "outputs": [
    {
     "name": "stdout",
     "output_type": "stream",
     "text": [
      "Initial Interest Payment: 1966.43\n",
      "Initial Principal Payment: 974.7\n"
     ]
    }
   ],
   "source": [
    "# Amount of the first loan payment that will go towards interest\n",
    "initial_interest_payment = mortgage_loan * mortgage_rate_periodic\n",
    "print(\"Initial Interest Payment: \" + str(round(initial_interest_payment, 2)))\n",
    "\n",
    "# Amount of the first loan payment that will go towards principal\n",
    "initial_principal_payment = periodic_mortgage_payment - initial_interest_payment\n",
    "print(\"Initial Principal Payment: \" + str(round(initial_principal_payment, 2)))"
   ]
  },
  {
   "cell_type": "code",
   "execution_count": 27,
   "metadata": {},
   "outputs": [
    {
     "name": "stdout",
     "output_type": "stream",
     "text": [
      "0 1966.43 974.7 639025.3\n",
      "1 1963.43 977.7 638047.6000000001\n",
      "2 1960.43 980.7 637066.9000000001\n",
      "3 1957.41 983.72 636083.1800000002\n",
      "4 1954.39 986.74 635096.4400000002\n",
      "5 1951.36 989.77 634106.6700000002\n",
      "6 1948.32 992.81 633113.8600000001\n",
      "7 1945.27 995.86 632118.0000000001\n",
      "8 1942.21 998.92 631119.0800000001\n",
      "9 1939.14 1001.99 630117.0900000001\n",
      "10 1936.06 1005.07 629112.0200000001\n",
      "11 1932.97 1008.16 628103.8600000001\n",
      "12 1929.88 1011.25 627092.6100000001\n",
      "13 1926.77 1014.36 626078.2500000001\n",
      "14 1923.65 1017.48 625060.7700000001\n",
      "15 1920.53 1020.6 624040.1700000002\n",
      "16 1917.39 1023.74 623016.4300000002\n",
      "17 1914.24 1026.89 621989.5400000002\n",
      "18 1911.09 1030.04 620959.5000000001\n",
      "19 1907.92 1033.21 619926.2900000002\n",
      "20 1904.75 1036.38 618889.9100000001\n",
      "21 1901.57 1039.56 617850.3500000001\n",
      "22 1898.37 1042.76 616807.5900000001\n",
      "23 1895.17 1045.96 615761.6300000001\n",
      "24 1891.95 1049.18 614712.4500000001\n",
      "25 1888.73 1052.4 613660.05\n",
      "26 1885.5 1055.63 612604.42\n",
      "27 1882.25 1058.88 611545.54\n",
      "28 1879.0 1062.13 610483.41\n",
      "29 1875.74 1065.39 609418.02\n",
      "30 1872.46 1068.67 608349.35\n",
      "31 1869.18 1071.95 607277.4\n",
      "32 1865.89 1075.24 606202.16\n",
      "33 1862.58 1078.55 605123.61\n",
      "34 1859.27 1081.86 604041.75\n",
      "35 1855.94 1085.19 602956.56\n",
      "36 1852.61 1088.52 601868.04\n",
      "37 1849.26 1091.87 600776.17\n",
      "38 1845.91 1095.22 599680.9500000001\n",
      "39 1842.54 1098.59 598582.3600000001\n",
      "40 1839.17 1101.96 597480.4000000001\n",
      "41 1835.78 1105.35 596375.0500000002\n",
      "42 1832.39 1108.74 595266.3100000002\n",
      "43 1828.98 1112.15 594154.1600000001\n",
      "44 1825.56 1115.57 593038.5900000002\n",
      "45 1822.14 1118.99 591919.6000000002\n",
      "46 1818.7 1122.43 590797.1700000002\n",
      "47 1815.25 1125.88 589671.2900000002\n",
      "48 1811.79 1129.34 588541.9500000002\n",
      "49 1808.32 1132.81 587409.1400000001\n",
      "50 1804.84 1136.29 586272.8500000001\n",
      "51 1801.35 1139.78 585133.0700000001\n",
      "52 1797.85 1143.28 583989.79\n",
      "53 1794.33 1146.8 582842.99\n",
      "54 1790.81 1150.32 581692.67\n",
      "55 1787.27 1153.86 580538.81\n",
      "56 1783.73 1157.4 579381.41\n",
      "57 1780.17 1160.96 578220.4500000001\n",
      "58 1776.61 1164.52 577055.93\n",
      "59 1773.03 1168.1 575887.8300000001\n",
      "60 1769.44 1171.69 574716.1400000001\n",
      "61 1765.84 1175.29 573540.8500000001\n",
      "62 1762.23 1178.9 572361.9500000001\n",
      "63 1758.61 1182.52 571179.43\n",
      "64 1754.97 1186.16 569993.27\n",
      "65 1751.33 1189.8 568803.47\n",
      "66 1747.67 1193.46 567610.01\n",
      "67 1744.01 1197.12 566412.89\n",
      "68 1740.33 1200.8 565212.09\n",
      "69 1736.64 1204.49 564007.6\n",
      "70 1732.94 1208.19 562799.41\n",
      "71 1729.22 1211.91 561587.5\n",
      "72 1725.5 1215.63 560371.87\n",
      "73 1721.77 1219.36 559152.51\n",
      "74 1718.02 1223.11 557929.4\n",
      "75 1714.26 1226.87 556702.53\n",
      "76 1710.49 1230.64 555471.89\n",
      "77 1706.71 1234.42 554237.47\n",
      "78 1702.92 1238.21 552999.26\n",
      "79 1699.11 1242.02 551757.24\n",
      "80 1695.3 1245.83 550511.41\n",
      "81 1691.47 1249.66 549261.75\n",
      "82 1687.63 1253.5 548008.25\n",
      "83 1683.78 1257.35 546750.9\n",
      "84 1679.91 1261.22 545489.68\n",
      "85 1676.04 1265.09 544224.5900000001\n",
      "86 1672.15 1268.98 542955.6100000001\n",
      "87 1668.25 1272.88 541682.7300000001\n",
      "88 1664.34 1276.79 540405.9400000001\n",
      "89 1660.42 1280.71 539125.2300000001\n",
      "90 1656.48 1284.65 537840.5800000001\n",
      "91 1652.54 1288.59 536551.9900000001\n",
      "92 1648.58 1292.55 535259.4400000001\n",
      "93 1644.61 1296.52 533962.92\n",
      "94 1640.62 1300.51 532662.41\n",
      "95 1636.63 1304.5 531357.91\n",
      "96 1632.62 1308.51 530049.4\n",
      "97 1628.6 1312.53 528736.87\n",
      "98 1624.57 1316.56 527420.3099999999\n",
      "99 1620.52 1320.61 526099.7\n",
      "100 1616.46 1324.67 524775.0299999999\n",
      "101 1612.39 1328.74 523446.2899999999\n",
      "102 1608.31 1332.82 522113.4699999999\n",
      "103 1604.22 1336.91 520776.55999999994\n",
      "104 1600.11 1341.02 519435.5399999999\n",
      "105 1595.99 1345.14 518090.3999999999\n",
      "106 1591.85 1349.28 516741.1199999999\n",
      "107 1587.71 1353.42 515387.6999999999\n",
      "108 1583.55 1357.58 514030.1199999999\n",
      "109 1579.38 1361.75 512668.3699999999\n",
      "110 1575.19 1365.94 511302.4299999999\n",
      "111 1571.0 1370.13 509932.2999999999\n",
      "112 1566.79 1374.34 508557.95999999985\n",
      "113 1562.57 1378.56 507179.39999999985\n",
      "114 1558.33 1382.8 505796.59999999986\n",
      "115 1554.08 1387.05 504409.5499999999\n",
      "116 1549.82 1391.31 503018.2399999999\n",
      "117 1545.54 1395.59 501622.64999999985\n",
      "118 1541.26 1399.87 500222.77999999985\n",
      "119 1536.96 1404.17 498818.60999999987\n",
      "120 1532.64 1408.49 497410.1199999999\n",
      "121 1528.31 1412.82 495997.2999999999\n",
      "122 1523.97 1417.16 494580.1399999999\n",
      "123 1519.62 1421.51 493158.6299999999\n",
      "124 1515.25 1425.88 491732.7499999999\n",
      "125 1510.87 1430.26 490302.4899999999\n",
      "126 1506.47 1434.66 488867.8299999999\n",
      "127 1502.07 1439.06 487428.7699999999\n",
      "128 1497.65 1443.48 485985.2899999999\n",
      "129 1493.21 1447.92 484537.36999999994\n",
      "130 1488.76 1452.37 483084.99999999994\n",
      "131 1484.3 1456.83 481628.1699999999\n",
      "132 1479.82 1461.31 480166.8599999999\n",
      "133 1475.33 1465.8 478701.05999999994\n",
      "134 1470.83 1470.3 477230.75999999995\n",
      "135 1466.31 1474.82 475755.93999999994\n",
      "136 1461.78 1479.35 474276.58999999997\n",
      "137 1457.23 1483.9 472792.68999999994\n",
      "138 1452.68 1488.45 471304.23999999993\n",
      "139 1448.1 1493.03 469811.2099999999\n",
      "140 1443.51 1497.62 468313.5899999999\n",
      "141 1438.91 1502.22 466811.36999999994\n",
      "142 1434.3 1506.83 465304.5399999999\n",
      "143 1429.67 1511.46 463793.0799999999\n",
      "144 1425.02 1516.11 462276.9699999999\n",
      "145 1420.37 1520.76 460756.2099999999\n",
      "146 1415.69 1525.44 459230.7699999999\n",
      "147 1411.01 1530.12 457700.6499999999\n",
      "148 1406.3 1534.83 456165.8199999999\n",
      "149 1401.59 1539.54 454626.2799999999\n",
      "150 1396.86 1544.27 453082.0099999999\n",
      "151 1392.11 1549.02 451532.9899999999\n",
      "152 1387.35 1553.78 449979.20999999985\n",
      "153 1382.58 1558.55 448420.65999999986\n",
      "154 1377.79 1563.34 446857.31999999983\n",
      "155 1372.99 1568.14 445289.1799999998\n",
      "156 1368.17 1572.96 443716.2199999998\n",
      "157 1363.34 1577.79 442138.4299999998\n",
      "158 1358.49 1582.64 440555.7899999998\n",
      "159 1353.63 1587.5 438968.2899999998\n",
      "160 1348.75 1592.38 437375.9099999998\n",
      "161 1343.86 1597.27 435778.6399999998\n",
      "162 1338.95 1602.18 434176.4599999998\n",
      "163 1334.03 1607.1 432569.3599999998\n",
      "164 1329.09 1612.04 430957.31999999983\n",
      "165 1324.13 1617.0 429340.31999999983\n",
      "166 1319.17 1621.96 427718.3599999998\n",
      "167 1314.18 1626.95 426091.4099999998\n",
      "168 1309.18 1631.95 424459.4599999998\n",
      "169 1304.17 1636.96 422822.49999999977\n",
      "170 1299.14 1641.99 421180.5099999998\n",
      "171 1294.09 1647.04 419533.4699999998\n",
      "172 1289.03 1652.1 417881.3699999998\n",
      "173 1283.96 1657.17 416224.19999999984\n",
      "174 1278.87 1662.26 414561.9399999998\n",
      "175 1273.76 1667.37 412894.56999999983\n",
      "176 1268.64 1672.49 411222.07999999984\n",
      "177 1263.5 1677.63 409544.44999999984\n",
      "178 1258.34 1682.79 407861.65999999986\n",
      "179 1253.17 1687.96 406173.69999999984\n",
      "180 1247.99 1693.14 404480.5599999998\n",
      "181 1242.78 1698.35 402782.20999999985\n",
      "182 1237.57 1703.56 401078.64999999985\n",
      "183 1232.33 1708.8 399369.84999999986\n",
      "184 1227.08 1714.05 397655.7999999999\n",
      "185 1221.81 1719.32 395936.47999999986\n",
      "186 1216.53 1724.6 394211.8799999999\n",
      "187 1211.23 1729.9 392481.97999999986\n",
      "188 1205.92 1735.21 390746.76999999984\n",
      "189 1200.59 1740.54 389006.22999999986\n",
      "190 1195.24 1745.89 387260.33999999985\n",
      "191 1189.87 1751.26 385509.07999999984\n",
      "192 1184.49 1756.64 383752.4399999998\n",
      "193 1179.1 1762.03 381990.4099999998\n",
      "194 1173.68 1767.45 380222.9599999998\n",
      "195 1168.25 1772.88 378450.0799999998\n",
      "196 1162.8 1778.33 376671.74999999977\n",
      "197 1157.34 1783.79 374887.9599999998\n",
      "198 1151.86 1789.27 373098.68999999977\n",
      "199 1146.36 1794.77 371303.91999999975\n",
      "200 1140.85 1800.28 369503.6399999997\n",
      "201 1135.32 1805.81 367697.8299999997\n",
      "202 1129.77 1811.36 365886.46999999974\n",
      "203 1124.2 1816.93 364069.53999999975\n",
      "204 1118.62 1822.51 362247.02999999974\n",
      "205 1113.02 1828.11 360418.91999999975\n",
      "206 1107.4 1833.73 358585.18999999977\n",
      "207 1101.77 1839.36 356745.8299999998\n",
      "208 1096.12 1845.01 354900.8199999998\n",
      "209 1090.45 1850.68 353050.1399999998\n",
      "210 1084.76 1856.37 351193.7699999998\n",
      "211 1079.06 1862.07 349331.6999999998\n",
      "212 1073.34 1867.79 347463.9099999998\n",
      "213 1067.6 1873.53 345590.3799999998\n",
      "214 1061.84 1879.29 343711.0899999998\n",
      "215 1056.07 1885.06 341826.0299999998\n",
      "216 1050.27 1890.86 339935.1699999998\n",
      "217 1044.46 1896.67 338038.4999999998\n",
      "218 1038.64 1902.49 336136.00999999983\n",
      "219 1032.79 1908.34 334227.6699999998\n",
      "220 1026.93 1914.2 332313.4699999998\n",
      "221 1021.05 1920.08 330393.3899999998\n",
      "222 1015.15 1925.98 328467.4099999998\n",
      "223 1009.23 1931.9 326535.5099999998\n",
      "224 1003.29 1937.84 324597.66999999975\n",
      "225 997.34 1943.79 322653.8799999998\n",
      "226 991.37 1949.76 320704.11999999976\n",
      "227 985.38 1955.75 318748.36999999976\n",
      "228 979.37 1961.76 316786.60999999975\n",
      "229 973.34 1967.79 314818.8199999998\n",
      "230 967.29 1973.84 312844.97999999975\n",
      "231 961.23 1979.9 310865.0799999997\n",
      "232 955.15 1985.98 308879.09999999974\n",
      "233 949.04 1992.09 306887.0099999997\n",
      "234 942.92 1998.21 304888.7999999997\n",
      "235 936.78 2004.35 302884.4499999997\n",
      "236 930.63 2010.5 300873.9499999997\n",
      "237 924.45 2016.68 298857.2699999997\n",
      "238 918.25 2022.88 296834.3899999997\n",
      "239 912.04 2029.09 294805.2999999997\n",
      "240 905.8 2035.33 292769.9699999997\n",
      "241 899.55 2041.58 290728.38999999966\n",
      "242 893.28 2047.85 288680.5399999997\n",
      "243 886.98 2054.15 286626.38999999966\n",
      "244 880.67 2060.46 284565.92999999964\n",
      "245 874.34 2066.79 282499.13999999966\n",
      "246 867.99 2073.14 280425.99999999965\n",
      "247 861.62 2079.51 278346.48999999964\n",
      "248 855.23 2085.9 276260.5899999996\n",
      "249 848.82 2092.31 274168.2799999996\n",
      "250 842.39 2098.74 272069.53999999963\n",
      "251 835.95 2105.18 269964.35999999964\n",
      "252 829.48 2111.65 267852.7099999996\n",
      "253 822.99 2118.14 265734.5699999996\n",
      "254 816.48 2124.65 263609.9199999996\n",
      "255 809.95 2131.18 261478.73999999958\n",
      "256 803.4 2137.73 259341.00999999957\n",
      "257 796.84 2144.29 257196.71999999956\n",
      "258 790.25 2150.88 255045.83999999956\n",
      "259 783.64 2157.49 252888.34999999957\n",
      "260 777.01 2164.12 250724.22999999957\n",
      "261 770.36 2170.77 248553.45999999958\n",
      "262 763.69 2177.44 246376.01999999958\n",
      "263 757.0 2184.13 244191.88999999958\n",
      "264 750.29 2190.84 242001.04999999958\n",
      "265 743.56 2197.57 239803.47999999957\n",
      "266 736.81 2204.32 237599.15999999957\n",
      "267 730.03 2211.1 235388.05999999956\n",
      "268 723.24 2217.89 233170.16999999955\n",
      "269 716.43 2224.7 230945.46999999954\n",
      "270 709.59 2231.54 228713.92999999953\n",
      "271 702.73 2238.4 226475.52999999953\n",
      "272 695.86 2245.27 224230.25999999954\n",
      "273 688.96 2252.17 221978.08999999953\n",
      "274 682.04 2259.09 219718.99999999953\n",
      "275 675.1 2266.03 217452.96999999954\n",
      "276 668.13 2273.0 215179.96999999954\n",
      "277 661.15 2279.98 212899.98999999953\n",
      "278 654.14 2286.99 210612.99999999953\n",
      "279 647.12 2294.01 208318.98999999953\n",
      "280 640.07 2301.06 206017.92999999953\n",
      "281 633.0 2308.13 203709.79999999952\n",
      "282 625.91 2315.22 201394.57999999952\n",
      "283 618.79 2322.34 199072.23999999953\n",
      "284 611.66 2329.47 196742.76999999952\n",
      "285 604.5 2336.63 194406.13999999952\n",
      "286 597.32 2343.81 192062.32999999952\n",
      "287 590.12 2351.01 189711.3199999995\n",
      "288 582.9 2358.23 187353.0899999995\n",
      "289 575.65 2365.48 184987.6099999995\n",
      "290 568.38 2372.75 182614.8599999995\n",
      "291 561.09 2380.04 180234.81999999948\n",
      "292 553.78 2387.35 177847.46999999948\n",
      "293 546.44 2394.69 175452.77999999947\n",
      "294 539.09 2402.04 173050.73999999947\n",
      "295 531.71 2409.42 170641.31999999945\n",
      "296 524.3 2416.83 168224.48999999947\n",
      "297 516.88 2424.25 165800.23999999947\n",
      "298 509.43 2431.7 163368.53999999946\n",
      "299 501.96 2439.17 160929.36999999944\n",
      "300 494.46 2446.67 158482.69999999943\n",
      "301 486.94 2454.19 156028.50999999943\n",
      "302 479.4 2461.73 153566.77999999942\n",
      "303 471.84 2469.29 151097.4899999994\n",
      "304 464.25 2476.88 148620.6099999994\n",
      "305 456.64 2484.49 146136.1199999994\n",
      "306 449.01 2492.12 143643.99999999942\n",
      "307 441.35 2499.78 141144.21999999942\n",
      "308 433.67 2507.46 138636.75999999943\n",
      "309 425.97 2515.16 136121.59999999942\n",
      "310 418.24 2522.89 133598.7099999994\n",
      "311 410.49 2530.64 131068.06999999941\n",
      "312 402.71 2538.42 128529.64999999941\n",
      "313 394.91 2546.22 125983.42999999941\n",
      "314 387.09 2554.04 123429.38999999942\n",
      "315 379.24 2561.89 120867.49999999942\n",
      "316 371.37 2569.76 118297.73999999942\n",
      "317 363.47 2577.66 115720.07999999942\n",
      "318 355.55 2585.58 113134.49999999942\n",
      "319 347.61 2593.52 110540.97999999941\n",
      "320 339.64 2601.49 107939.48999999941\n",
      "321 331.65 2609.48 105330.00999999941\n",
      "322 323.63 2617.5 102712.50999999941\n",
      "323 315.59 2625.54 100086.96999999942\n",
      "324 307.52 2633.61 97453.35999999942\n",
      "325 299.43 2641.7 94811.65999999942\n",
      "326 291.31 2649.82 92161.83999999941\n",
      "327 283.17 2657.96 89503.87999999941\n",
      "328 275.0 2666.13 86837.7499999994\n",
      "329 266.81 2674.32 84163.4299999994\n",
      "330 258.6 2682.53 81480.8999999994\n",
      "331 250.35 2690.78 78790.1199999994\n",
      "332 242.09 2699.04 76091.0799999994\n",
      "333 233.79 2707.34 73383.73999999941\n",
      "334 225.47 2715.66 70668.0799999994\n",
      "335 217.13 2724.0 67944.0799999994\n",
      "336 208.76 2732.37 65211.7099999994\n",
      "337 200.37 2740.76 62470.9499999994\n",
      "338 191.94 2749.19 59721.7599999994\n",
      "339 183.5 2757.63 56964.1299999994\n",
      "340 175.02 2766.11 54198.0199999994\n",
      "341 166.53 2774.6 51423.4199999994\n",
      "342 158.0 2783.13 48640.289999999404\n",
      "343 149.45 2791.68 45848.609999999404\n",
      "344 140.87 2800.26 43048.3499999994\n",
      "345 132.27 2808.86 40239.4899999994\n",
      "346 123.64 2817.49 37421.9999999994\n",
      "347 114.98 2826.15 34595.8499999994\n",
      "348 106.3 2834.83 31761.0199999994\n",
      "349 97.59 2843.54 28917.4799999994\n",
      "350 88.85 2852.28 26065.1999999994\n",
      "351 80.09 2861.04 23204.1599999994\n",
      "352 71.3 2869.83 20334.329999999398\n",
      "353 62.48 2878.65 17455.679999999396\n",
      "354 53.63 2887.5 14568.179999999396\n",
      "355 44.76 2896.37 11671.809999999397\n",
      "356 35.86 2905.27 8766.539999999397\n",
      "357 26.94 2914.19 5852.3499999993965\n",
      "358 17.98 2923.15 2929.1999999993964\n",
      "359 9.0 2929.1999999993964 0.0\n"
     ]
    }
   ],
   "source": [
    "principal_remaining = np.zeros(360)\n",
    "\n",
    "# Loop for each mortgage payment period\n",
    "for i in range(0, mortgage_payment_periods):\n",
    "    \n",
    "    # First iteration\n",
    "    if i == 0:\n",
    "        previous_principal_remaining = mortgage_loan\n",
    "    else:\n",
    "        previous_principal_remaining = principal_remaining[i-1]\n",
    "        \n",
    "    # Interest and principal payments\n",
    "    interest_payment = round(previous_principal_remaining*mortgage_rate_periodic, 2)\n",
    "    principal_payment = round(periodic_mortgage_payment-interest_payment, 2)\n",
    "    \n",
    "    # Case where all principal is paid off in the final period\n",
    "    if previous_principal_remaining - principal_payment < 0:\n",
    "        principal_payment = previous_principal_remaining\n",
    "        \n",
    "    # Principal remaining values in an array\n",
    "    principal_remaining[i] = previous_principal_remaining - principal_payment\n",
    "    \n",
    "    # Payments for the first few periods\n",
    "    print(i, interest_payment, principal_payment, principal_remaining[i])"
   ]
  },
  {
   "cell_type": "code",
   "execution_count": 28,
   "metadata": {},
   "outputs": [
    {
     "data": {
      "text/plain": [
       "[<matplotlib.lines.Line2D at 0x2493289ee20>]"
      ]
     },
     "execution_count": 28,
     "metadata": {},
     "output_type": "execute_result"
    },
    {
     "data": {
      "image/png": "[encoded data removed]",
      "text/plain": [
       "<Figure size 432x288 with 1 Axes>"
      ]
     },
     "metadata": {
      "needs_background": "light"
     },
     "output_type": "display_data"
    }
   ],
   "source": [
    "interest_paid = np.zeros(360)\n",
    "principal_paid = np.zeros(360)\n",
    "principal_remaining = np.zeros(360)\n",
    "\n",
    "# Loop for each mortgage payment period\n",
    "for i in range(0, mortgage_payment_periods):\n",
    "    \n",
    "    # First iteration\n",
    "    if i == 0:\n",
    "        previous_principal_remaining = mortgage_loan\n",
    "    else:\n",
    "        previous_principal_remaining = principal_remaining[i-1]\n",
    "        \n",
    "    # Interest based on the previous principal\n",
    "    interest_payment = round(previous_principal_remaining*mortgage_rate_periodic, 2)\n",
    "    principal_payment = round(periodic_mortgage_payment - interest_payment, 2)\n",
    "    \n",
    "    # Case where all principal is paid off in the final period\n",
    "    if previous_principal_remaining - principal_payment < 0:\n",
    "        principal_payment = previous_principal_remaining\n",
    "        \n",
    "    # Historical values\n",
    "    interest_paid[i] = interest_payment\n",
    "    principal_paid[i] = principal_payment\n",
    "    principal_remaining[i] = previous_principal_remaining - principal_payment\n",
    "    \n",
    "# Interest vs principal\n",
    "plt.plot(interest_paid, color=\"red\")\n",
    "plt.plot(principal_paid, color=\"blue\")"
   ]
  },
  {
   "cell_type": "markdown",
   "metadata": {},
   "source": [
    "### Cumulative payments and home equity"
   ]
  },
  {
   "cell_type": "code",
   "execution_count": 29,
   "metadata": {},
   "outputs": [
    {
     "data": {
      "text/plain": [
       "[<matplotlib.lines.Line2D at 0x24932945910>]"
      ]
     },
     "execution_count": 29,
     "metadata": {},
     "output_type": "execute_result"
    },
    {
     "data": {
      "image/png": "[encoded data removed]",
      "text/plain": [
       "<Figure size 432x288 with 1 Axes>"
      ]
     },
     "metadata": {
      "needs_background": "light"
     },
     "output_type": "display_data"
    }
   ],
   "source": [
    "# Cumulative home equity (principal) over time\n",
    "cumulative_home_equity = np.cumsum(principal_paid)\n",
    "\n",
    "# Cumulative interest paid over time\n",
    "cumulative_interest_paid = np.cumsum(interest_paid)\n",
    "\n",
    "# Percentage home equity over time\n",
    "cumulative_percent_owned = down_payment_percent + (cumulative_home_equity/home_value)\n",
    "#print(cumulative_percent_owned)\n",
    "\n",
    "# Cumulative interest paid vs equity accumulated\n",
    "plt.plot(cumulative_interest_paid, color='red')\n",
    "plt.plot(cumulative_home_equity, color='blue')"
   ]
  },
  {
   "cell_type": "code",
   "execution_count": 30,
   "metadata": {},
   "outputs": [
    {
     "data": {
      "text/plain": [
       "[<matplotlib.lines.Line2D at 0x249329a4dc0>]"
      ]
     },
     "execution_count": 30,
     "metadata": {},
     "output_type": "execute_result"
    },
    {
     "data": {
      "image/png": "[encoded data removed]",
      "text/plain": [
       "<Figure size 432x288 with 1 Axes>"
      ]
     },
     "metadata": {
      "needs_background": "light"
     },
     "output_type": "display_data"
    }
   ],
   "source": [
    "growth_array = np.repeat(0.0025, 360)\n",
    "\n",
    "# Cumulative growth over time\n",
    "cumulative_growth_forecast = np.cumprod(1+growth_array)\n",
    "\n",
    "# Home value over time\n",
    "home_value_forecast = home_value * cumulative_growth_forecast\n",
    "\n",
    "# Home equity value owned over time\n",
    "cumulative_home_value_owned = home_value_forecast*cumulative_percent_owned\n",
    "\n",
    "# Home value vs equity accumulated\n",
    "plt.plot(home_value_forecast, color='red')\n",
    "plt.plot(cumulative_home_value_owned, color='blue')"
   ]
  },
  {
   "cell_type": "code",
   "execution_count": 31,
   "metadata": {},
   "outputs": [
    {
     "name": "stdout",
     "output_type": "stream",
     "text": [
      "True     180\n",
      "False    180\n",
      "dtype: int64\n"
     ]
    },
    {
     "data": {
      "text/plain": [
       "[<matplotlib.lines.Line2D at 0x24932a21280>]"
      ]
     },
     "execution_count": 31,
     "metadata": {},
     "output_type": "execute_result"
    },
    {
     "data": {
      "image/png": "[encoded data removed]",
      "text/plain": [
       "<Figure size 432x288 with 1 Axes>"
      ]
     },
     "metadata": {
      "needs_background": "light"
     },
     "output_type": "display_data"
    }
   ],
   "source": [
    "decline_array = np.repeat(-0.0045, 360)\n",
    "\n",
    "# Cumulative drop in home value over time as a ratio\n",
    "cumulative_decline_forecast = np.cumprod(1+decline_array)\n",
    "\n",
    "# Home value over time\n",
    "home_value_forecast = cumulative_decline_forecast * home_value\n",
    "\n",
    "# All periods where the mortgage is underwater\n",
    "underwater = principal_remaining > home_value_forecast\n",
    "print(pd.value_counts(underwater))\n",
    "\n",
    "# Home value vs principal remaining\n",
    "plt.plot(home_value_forecast, color='red')\n",
    "plt.plot(principal_remaining, color='blue')\n",
    "\n",
    "# When the blue line is above the red line, the mortgage is underwater."
   ]
  },
  {
   "cell_type": "markdown",
   "metadata": {},
   "source": [
    "### Budgeting project"
   ]
  },
  {
   "cell_type": "code",
   "execution_count": 32,
   "metadata": {},
   "outputs": [
    {
     "name": "stdout",
     "output_type": "stream",
     "text": [
      "Salary after taxes: 59500.0\n",
      "Monthly takehome salary: 4958.33\n"
     ]
    }
   ],
   "source": [
    "# Annual salary\n",
    "salary = 85000\n",
    "\n",
    "# Tax rate of 30%\n",
    "tax_rate = 0.3\n",
    "\n",
    "# Salary after taxes\n",
    "salary_after_taxes = salary * (1 - tax_rate)\n",
    "print(\"Salary after taxes: \" + str(round(salary_after_taxes, 2)))\n",
    "\n",
    "# Monthly salary after taxes\n",
    "monthly_takehome_salary = salary_after_taxes/12\n",
    "print(\"Monthly takehome salary: \" + str(round(monthly_takehome_salary, 2)))"
   ]
  },
  {
   "cell_type": "code",
   "execution_count": 33,
   "metadata": {},
   "outputs": [
    {
     "name": "stdout",
     "output_type": "stream",
     "text": [
      "Monthly expenses: 2550\n",
      "Monthly savings: 2408.33\n"
     ]
    }
   ],
   "source": [
    "# Monthly rent\n",
    "monthly_rent = 1200\n",
    "\n",
    "# Daily food budget\n",
    "daily_food_budget = 30\n",
    "\n",
    "# Monthly food budget assuming 30 days per month\n",
    "monthly_food_budget = daily_food_budget * 30\n",
    "\n",
    "# Monthly entertainment budget\n",
    "monthly_entertainment_budget = 200\n",
    "\n",
    "# Funds for unforeseen expenses\n",
    "monthly_unforeseen_expenses = 250\n",
    "\n",
    "# Total monthly expenses\n",
    "monthly_expenses = (monthly_rent + monthly_food_budget +\n",
    "                   monthly_entertainment_budget + monthly_unforeseen_expenses)\n",
    "                \n",
    "print(\"Monthly expenses: \" + str(round(monthly_expenses, 2)))\n",
    "\n",
    "# Monthly take-home savings\n",
    "monthly_savings = monthly_takehome_salary - monthly_expenses\n",
    "print(\"Monthly savings: \" + str(round(monthly_savings, 2)))"
   ]
  },
  {
   "cell_type": "code",
   "execution_count": 34,
   "metadata": {},
   "outputs": [
    {
     "data": {
      "text/plain": [
       "[<matplotlib.lines.Line2D at 0x24932a7d7c0>]"
      ]
     },
     "execution_count": 34,
     "metadata": {},
     "output_type": "execute_result"
    },
    {
     "data": {
      "image/png": "[encoded data removed]",
      "text/plain": [
       "<Figure size 432x288 with 1 Axes>"
      ]
     },
     "metadata": {
      "needs_background": "light"
     },
     "output_type": "display_data"
    }
   ],
   "source": [
    "# Monthly forecasts up to 15 years from now\n",
    "forecast_months = 12*15\n",
    "\n",
    "# Annual salary growth rate\n",
    "annual_salary_growth = 0.05\n",
    "\n",
    "# Equivalent monthly salary growth rate\n",
    "monthly_salary_growth = (1 + annual_salary_growth)**(1/12) - 1\n",
    "\n",
    "# Cumulative growth of the salary\n",
    "cumulative_salary_growth_forecast = np.cumprod(np.repeat(1 + monthly_salary_growth, forecast_months))\n",
    "\n",
    "# Actual salary forecast\n",
    "salary_forecast = monthly_takehome_salary * cumulative_salary_growth_forecast\n",
    "\n",
    "# Forecasted salary\n",
    "plt.plot(salary_forecast, color='blue')"
   ]
  },
  {
   "cell_type": "code",
   "execution_count": 35,
   "metadata": {},
   "outputs": [
    {
     "data": {
      "text/plain": [
       "[<matplotlib.lines.Line2D at 0x24932ad2850>]"
      ]
     },
     "execution_count": 35,
     "metadata": {},
     "output_type": "execute_result"
    },
    {
     "data": {
      "image/png": "[encoded data removed]",
      "text/plain": [
       "<Figure size 432x288 with 1 Axes>"
      ]
     },
     "metadata": {
      "needs_background": "light"
     },
     "output_type": "display_data"
    }
   ],
   "source": [
    "# Annual inflation rate\n",
    "annual_inflation = 0.025\n",
    "\n",
    "# Equivalent monthly inflation rate\n",
    "monthly_inflation = (1 + annual_inflation) ** (1/12) - 1\n",
    "\n",
    "# Cumulative inflation over time\n",
    "cumulative_inflation_forecast = np.cumprod(np.repeat(1 + monthly_inflation, forecast_months))\n",
    "\n",
    "# Forecasted expenses\n",
    "expenses_forecast = monthly_expenses * cumulative_inflation_forecast\n",
    "\n",
    "# Plot of forecasted expenses\n",
    "plt.plot(expenses_forecast, color='red')"
   ]
  },
  {
   "cell_type": "code",
   "execution_count": 36,
   "metadata": {},
   "outputs": [
    {
     "name": "stdout",
     "output_type": "stream",
     "text": [
      "Your final net worth: 762318.83\n"
     ]
    },
    {
     "data": {
      "text/plain": [
       "[<matplotlib.lines.Line2D at 0x249328d7400>]"
      ]
     },
     "execution_count": 36,
     "metadata": {},
     "output_type": "execute_result"
    },
    {
     "data": {
      "image/png": "[encoded data removed]",
      "text/plain": [
       "<Figure size 432x288 with 1 Axes>"
      ]
     },
     "metadata": {
      "needs_background": "light"
     },
     "output_type": "display_data"
    }
   ],
   "source": [
    "# Savings for each month\n",
    "savings_forecast = salary_forecast - expenses_forecast\n",
    "\n",
    "# Cumulative savings over time\n",
    "cumulative_savings = np.cumsum(savings_forecast)\n",
    "\n",
    "# Final cumulative savings after 15 years\n",
    "final_net_worth = cumulative_savings[-1]\n",
    "print(\"Your final net worth: \" + str(round(final_net_worth, 2)))\n",
    "\n",
    "# Forecasted savings\n",
    "plt.plot(cumulative_savings, color='blue')"
   ]
  },
  {
   "cell_type": "code",
   "execution_count": 37,
   "metadata": {},
   "outputs": [
    {
     "name": "stdout",
     "output_type": "stream",
     "text": [
      "You will have to invest $3214.35 per month to amass $1M over 15 years\n"
     ]
    },
    {
     "name": "stderr",
     "output_type": "stream",
     "text": [
      "<ipython-input-37-45a80291b1ab>:8: DeprecationWarning: numpy.pmt is deprecated and will be removed from NumPy 1.20. Use numpy_financial.pmt instead (https://pypi.org/project/numpy-financial/).\n",
      "  required_investment_monthly = np.pmt(rate=investment_rate_monthly, nper=forecast_months, pv=0, fv=1000000)\n"
     ]
    }
   ],
   "source": [
    "# Annual investment return of 7%\n",
    "investment_rate_annual = 0.07\n",
    "\n",
    "# Monthly investment return\n",
    "investment_rate_monthly = (1 + investment_rate_annual) ** (1/12) - 1\n",
    "\n",
    "# Required monthly investment to amass $1M\n",
    "required_investment_monthly = np.pmt(rate=investment_rate_monthly, nper=forecast_months, pv=0, fv=1000000)\n",
    "print(\"You will have to invest $\" + str(round(required_investment_monthly * -1, 2)) + \" per month to amass $1M over 15 years\")"
   ]
  },
  {
   "cell_type": "code",
   "execution_count": 38,
   "metadata": {},
   "outputs": [
    {
     "data": {
      "text/plain": [
       "[<matplotlib.lines.Line2D at 0x24932b7a640>]"
      ]
     },
     "execution_count": 38,
     "metadata": {},
     "output_type": "execute_result"
    },
    {
     "data": {
      "image/png": "[encoded data removed]",
      "text/plain": [
       "<Figure size 432x288 with 1 Axes>"
      ]
     },
     "metadata": {
      "needs_background": "light"
     },
     "output_type": "display_data"
    }
   ],
   "source": [
    "monthly_investment_percentage = 0.3\n",
    "\n",
    "# Monthly deposit into the investment account\n",
    "investment_deposit_forecast = savings_forecast * monthly_investment_percentage\n",
    "\n",
    "# The rest goes into the savings account\n",
    "savings_forecast_new = savings_forecast - investment_deposit_forecast\n",
    "\n",
    "# Cumulative savings over time\n",
    "cumulative_savings_new = np.cumsum(savings_forecast_new)\n",
    "\n",
    "# Forecasted monthly savings vs investments\n",
    "plt.plot(investment_deposit_forecast, color='red')\n",
    "plt.plot(savings_forecast_new, color='blue')"
   ]
  },
  {
   "cell_type": "code",
   "execution_count": 39,
   "metadata": {},
   "outputs": [
    {
     "data": {
      "text/plain": [
       "[<matplotlib.lines.Line2D at 0x24932be0610>]"
      ]
     },
     "execution_count": 39,
     "metadata": {},
     "output_type": "execute_result"
    },
    {
     "data": {
      "image/png": "[encoded data removed]",
      "text/plain": [
       "<Figure size 432x288 with 1 Axes>"
      ]
     },
     "metadata": {
      "needs_background": "light"
     },
     "output_type": "display_data"
    }
   ],
   "source": [
    "investment_portfolio = np.zeros(180)\n",
    "net_worth = np.zeros(180)\n",
    "\n",
    "# Loop through each forecast period\n",
    "for i in range(forecast_months):\n",
    "    \n",
    "    # Previous investment deposit amount\n",
    "    if i == 0: \n",
    "        previous_investment = 0\n",
    "    else:\n",
    "        previous_investment = investment_portfolio[i-1]\n",
    "        \n",
    "    # Value of the previous investments, which have grown\n",
    "    previous_investment_growth = previous_investment*(1 + investment_rate_monthly)\n",
    "    \n",
    "    # Addition of the new deposit to the investment portfolio\n",
    "    investment_portfolio[i] =  previous_investment_growth + investment_deposit_forecast[i]\n",
    "    \n",
    "    # Net worth at each point in time\n",
    "    net_worth[i] = investment_portfolio[i] + cumulative_savings_new[i]\n",
    "         \n",
    "# Forecasted cumulative savings vs investments and net worth\n",
    "plt.plot(investment_portfolio, color='red')\n",
    "plt.plot(cumulative_savings_new, color='blue')\n",
    "plt.plot(net_worth, color='green')"
   ]
  },
  {
   "cell_type": "markdown",
   "metadata": {},
   "source": [
    "### Investing"
   ]
  },
  {
   "cell_type": "code",
   "execution_count": 41,
   "metadata": {},
   "outputs": [
    {
     "name": "stderr",
     "output_type": "stream",
     "text": [
      "<ipython-input-41-ab6c03775bda>:2: DeprecationWarning: numpy.pmt is deprecated and will be removed from NumPy 1.20. Use numpy_financial.pmt instead (https://pypi.org/project/numpy-financial/).\n",
      "  np.pmt(rate=((1+0.07)**(1/12) - 1),\n"
     ]
    },
    {
     "data": {
      "text/plain": [
       "-3214.351338524575"
      ]
     },
     "execution_count": 41,
     "metadata": {},
     "output_type": "execute_result"
    }
   ],
   "source": [
    "# Amount to invest to accumulate $1 million dollars over 15 years at 7% per year.\n",
    "np.pmt(rate=((1+0.07)**(1/12) - 1), \n",
    "       nper=15*12, pv=0, fv=1000000)"
   ]
  },
  {
   "cell_type": "code",
   "execution_count": 42,
   "metadata": {},
   "outputs": [
    {
     "name": "stderr",
     "output_type": "stream",
     "text": [
      "<ipython-input-42-b68b0eaac778>:2: DeprecationWarning: numpy.pmt is deprecated and will be removed from NumPy 1.20. Use numpy_financial.pmt instead (https://pypi.org/project/numpy-financial/).\n",
      "  np.pmt(rate=((1+0.07)**(1/12) - 1),\n"
     ]
    },
    {
     "data": {
      "text/plain": [
       "-855.1009225937204"
      ]
     },
     "execution_count": 42,
     "metadata": {},
     "output_type": "execute_result"
    }
   ],
   "source": [
    "# Amount to invest to accumulate $1 million dollars over 30 years at 7% per year.\n",
    "np.pmt(rate=((1+0.07)**(1/12) - 1), \n",
    "       nper=30*12, pv=0, fv=1000000)"
   ]
  },
  {
   "cell_type": "code",
   "execution_count": 43,
   "metadata": {
    "scrolled": true
   },
   "outputs": [
    {
     "name": "stdout",
     "output_type": "stream",
     "text": [
      "Inflation-adjusted net worth: $621419.0\n"
     ]
    },
    {
     "name": "stderr",
     "output_type": "stream",
     "text": [
      "<ipython-input-43-5444399521c6>:8: DeprecationWarning: numpy.pv is deprecated and will be removed from NumPy 1.20. Use numpy_financial.pv instead (https://pypi.org/project/numpy-financial/).\n",
      "  inflation_adjusted_net_worth = np.pv(rate=annual_inflation, nper=15, pmt=0, fv=-1*future_net_worth)\n"
     ]
    }
   ],
   "source": [
    "# Future net worth\n",
    "future_net_worth = 900000\n",
    "\n",
    "# Annual inflation rate of 2.5%\n",
    "annual_inflation = 0.025\n",
    "\n",
    "# Present value of the terminal wealth over 15 years\n",
    "inflation_adjusted_net_worth = np.pv(rate=annual_inflation, nper=15, pmt=0, fv=-1*future_net_worth)\n",
    "print(\"Inflation-adjusted net worth: $\" + str(round(inflation_adjusted_net_worth, 2)))"
   ]
  }
 ],
 "metadata": {
  "kernelspec": {
   "display_name": "Python 3",
   "language": "python",
   "name": "python3"
  },
  "language_info": {
   "codemirror_mode": {
    "name": "ipython",
    "version": 3
   },
   "file_extension": ".py",
   "mimetype": "text/x-python",
   "name": "python",
   "nbconvert_exporter": "python",
   "pygments_lexer": "ipython3",
   "version": "3.8.3"
  }
 },
 "nbformat": 4,
 "nbformat_minor": 4
}
